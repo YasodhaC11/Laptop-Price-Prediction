{
 "cells": [
  {
   "cell_type": "markdown",
   "id": "e55ae887-cff5-4f60-8b55-b70bcc96474e",
   "metadata": {},
   "source": [
    "# Laptop Price Prediction - Machine Learning Project"
   ]
  },
  {
   "cell_type": "markdown",
   "id": "a4094416-f9d5-4c31-bd94-4f583003d261",
   "metadata": {},
   "source": [
    "- Objective: Predict laptop prices using machine learning models.\n",
    "- Dataset: Laptop specifications and prices provided by SmartTech Co.\n",
    "- Goals:\n",
    "  - Accurate price prediction\n",
    "  - Understanding feature influence\n",
    "  - Business insight for pricing and positioning"
   ]
  },
  {
   "cell_type": "markdown",
   "id": "a91d4ae4-e433-4e1e-bdf6-3afe6b139f14",
   "metadata": {},
   "source": [
    "#### Importing Libraries"
   ]
  },
  {
   "cell_type": "code",
   "execution_count": 4,
   "id": "4f21b26e-a9bf-4e6c-af63-2c7235a081c6",
   "metadata": {},
   "outputs": [],
   "source": [
    "# For data handling and manipulation\n",
    "import pandas as pd\n",
    "import numpy as np\n",
    "\n",
    "# For visualisation\n",
    "import matplotlib.pyplot as plt\n",
    "import seaborn as sns\n",
    "\n",
    "# For model building and Evaluation\n",
    "from sklearn.preprocessing import LabelEncoder\n",
    "from sklearn.model_selection import train_test_split\n",
    "from sklearn.linear_model import LinearRegression\n",
    "from sklearn.tree import DecisionTreeRegressor\n",
    "from sklearn.neighbors import KNeighborsRegressor\n",
    "from sklearn.svm import SVR\n",
    "from sklearn.ensemble import RandomForestRegressor,GradientBoostingRegressor\n",
    "import xgboost as xgb"
   ]
  },
  {
   "cell_type": "markdown",
   "id": "5d8a544f-bc04-4460-893b-58d853b6c998",
   "metadata": {},
   "source": [
    "#### Loading the Dataset"
   ]
  },
  {
   "cell_type": "code",
   "execution_count": 6,
   "id": "f5f046c6-cc13-4478-a6be-f4dbcf5f833b",
   "metadata": {},
   "outputs": [],
   "source": [
    "data=pd.read_csv(r\"C:\\Users\\yasod\\Downloads\\laptop (1)\\laptop.csv\")\n"
   ]
  },
  {
   "cell_type": "markdown",
   "id": "aff61b70-0290-4314-94d2-350e9adffbd5",
   "metadata": {},
   "source": [
    "## Data Preprocessing"
   ]
  },
  {
   "cell_type": "code",
   "execution_count": 8,
   "id": "119808c0-5cb9-42b8-965d-94b48dac5a0b",
   "metadata": {},
   "outputs": [
    {
     "data": {
      "text/html": [
       "<div>\n",
       "<style scoped>\n",
       "    .dataframe tbody tr th:only-of-type {\n",
       "        vertical-align: middle;\n",
       "    }\n",
       "\n",
       "    .dataframe tbody tr th {\n",
       "        vertical-align: top;\n",
       "    }\n",
       "\n",
       "    .dataframe thead th {\n",
       "        text-align: right;\n",
       "    }\n",
       "</style>\n",
       "<table border=\"1\" class=\"dataframe\">\n",
       "  <thead>\n",
       "    <tr style=\"text-align: right;\">\n",
       "      <th></th>\n",
       "      <th>Unnamed: 0.1</th>\n",
       "      <th>Unnamed: 0</th>\n",
       "      <th>Company</th>\n",
       "      <th>TypeName</th>\n",
       "      <th>Inches</th>\n",
       "      <th>ScreenResolution</th>\n",
       "      <th>Cpu</th>\n",
       "      <th>Ram</th>\n",
       "      <th>Memory</th>\n",
       "      <th>Gpu</th>\n",
       "      <th>OpSys</th>\n",
       "      <th>Weight</th>\n",
       "      <th>Price</th>\n",
       "    </tr>\n",
       "  </thead>\n",
       "  <tbody>\n",
       "    <tr>\n",
       "      <th>0</th>\n",
       "      <td>0</td>\n",
       "      <td>0.0</td>\n",
       "      <td>Apple</td>\n",
       "      <td>Ultrabook</td>\n",
       "      <td>13.3</td>\n",
       "      <td>IPS Panel Retina Display 2560x1600</td>\n",
       "      <td>Intel Core i5 2.3GHz</td>\n",
       "      <td>8GB</td>\n",
       "      <td>128GB SSD</td>\n",
       "      <td>Intel Iris Plus Graphics 640</td>\n",
       "      <td>macOS</td>\n",
       "      <td>1.37kg</td>\n",
       "      <td>71378.6832</td>\n",
       "    </tr>\n",
       "    <tr>\n",
       "      <th>1</th>\n",
       "      <td>1</td>\n",
       "      <td>1.0</td>\n",
       "      <td>Apple</td>\n",
       "      <td>Ultrabook</td>\n",
       "      <td>13.3</td>\n",
       "      <td>1440x900</td>\n",
       "      <td>Intel Core i5 1.8GHz</td>\n",
       "      <td>8GB</td>\n",
       "      <td>128GB Flash Storage</td>\n",
       "      <td>Intel HD Graphics 6000</td>\n",
       "      <td>macOS</td>\n",
       "      <td>1.34kg</td>\n",
       "      <td>47895.5232</td>\n",
       "    </tr>\n",
       "    <tr>\n",
       "      <th>2</th>\n",
       "      <td>2</td>\n",
       "      <td>2.0</td>\n",
       "      <td>HP</td>\n",
       "      <td>Notebook</td>\n",
       "      <td>15.6</td>\n",
       "      <td>Full HD 1920x1080</td>\n",
       "      <td>Intel Core i5 7200U 2.5GHz</td>\n",
       "      <td>8GB</td>\n",
       "      <td>256GB SSD</td>\n",
       "      <td>Intel HD Graphics 620</td>\n",
       "      <td>No OS</td>\n",
       "      <td>1.86kg</td>\n",
       "      <td>30636.0000</td>\n",
       "    </tr>\n",
       "    <tr>\n",
       "      <th>3</th>\n",
       "      <td>3</td>\n",
       "      <td>3.0</td>\n",
       "      <td>Apple</td>\n",
       "      <td>Ultrabook</td>\n",
       "      <td>15.4</td>\n",
       "      <td>IPS Panel Retina Display 2880x1800</td>\n",
       "      <td>Intel Core i7 2.7GHz</td>\n",
       "      <td>16GB</td>\n",
       "      <td>512GB SSD</td>\n",
       "      <td>AMD Radeon Pro 455</td>\n",
       "      <td>macOS</td>\n",
       "      <td>1.83kg</td>\n",
       "      <td>135195.3360</td>\n",
       "    </tr>\n",
       "    <tr>\n",
       "      <th>4</th>\n",
       "      <td>4</td>\n",
       "      <td>4.0</td>\n",
       "      <td>Apple</td>\n",
       "      <td>Ultrabook</td>\n",
       "      <td>13.3</td>\n",
       "      <td>IPS Panel Retina Display 2560x1600</td>\n",
       "      <td>Intel Core i5 3.1GHz</td>\n",
       "      <td>8GB</td>\n",
       "      <td>256GB SSD</td>\n",
       "      <td>Intel Iris Plus Graphics 650</td>\n",
       "      <td>macOS</td>\n",
       "      <td>1.37kg</td>\n",
       "      <td>96095.8080</td>\n",
       "    </tr>\n",
       "  </tbody>\n",
       "</table>\n",
       "</div>"
      ],
      "text/plain": [
       "   Unnamed: 0.1  Unnamed: 0 Company   TypeName Inches  \\\n",
       "0             0         0.0   Apple  Ultrabook   13.3   \n",
       "1             1         1.0   Apple  Ultrabook   13.3   \n",
       "2             2         2.0      HP   Notebook   15.6   \n",
       "3             3         3.0   Apple  Ultrabook   15.4   \n",
       "4             4         4.0   Apple  Ultrabook   13.3   \n",
       "\n",
       "                     ScreenResolution                         Cpu   Ram  \\\n",
       "0  IPS Panel Retina Display 2560x1600        Intel Core i5 2.3GHz   8GB   \n",
       "1                            1440x900        Intel Core i5 1.8GHz   8GB   \n",
       "2                   Full HD 1920x1080  Intel Core i5 7200U 2.5GHz   8GB   \n",
       "3  IPS Panel Retina Display 2880x1800        Intel Core i7 2.7GHz  16GB   \n",
       "4  IPS Panel Retina Display 2560x1600        Intel Core i5 3.1GHz   8GB   \n",
       "\n",
       "                Memory                           Gpu  OpSys  Weight  \\\n",
       "0            128GB SSD  Intel Iris Plus Graphics 640  macOS  1.37kg   \n",
       "1  128GB Flash Storage        Intel HD Graphics 6000  macOS  1.34kg   \n",
       "2            256GB SSD         Intel HD Graphics 620  No OS  1.86kg   \n",
       "3            512GB SSD            AMD Radeon Pro 455  macOS  1.83kg   \n",
       "4            256GB SSD  Intel Iris Plus Graphics 650  macOS  1.37kg   \n",
       "\n",
       "         Price  \n",
       "0   71378.6832  \n",
       "1   47895.5232  \n",
       "2   30636.0000  \n",
       "3  135195.3360  \n",
       "4   96095.8080  "
      ]
     },
     "execution_count": 8,
     "metadata": {},
     "output_type": "execute_result"
    }
   ],
   "source": [
    "data.head()"
   ]
  },
  {
   "cell_type": "code",
   "execution_count": 9,
   "id": "58ab9cc3-55e0-4050-afd9-1147d3a9657f",
   "metadata": {},
   "outputs": [
    {
     "data": {
      "text/plain": [
       "(1303, 13)"
      ]
     },
     "execution_count": 9,
     "metadata": {},
     "output_type": "execute_result"
    }
   ],
   "source": [
    "data.shape"
   ]
  },
  {
   "cell_type": "code",
   "execution_count": 10,
   "id": "ba0eba77-2600-409c-847f-ab8369523e7f",
   "metadata": {},
   "outputs": [
    {
     "data": {
      "text/plain": [
       "Index(['Unnamed: 0.1', 'Unnamed: 0', 'Company', 'TypeName', 'Inches',\n",
       "       'ScreenResolution', 'Cpu', 'Ram', 'Memory', 'Gpu', 'OpSys', 'Weight',\n",
       "       'Price'],\n",
       "      dtype='object')"
      ]
     },
     "execution_count": 10,
     "metadata": {},
     "output_type": "execute_result"
    }
   ],
   "source": [
    "data.columns"
   ]
  },
  {
   "cell_type": "code",
   "execution_count": 11,
   "id": "e8992875-9900-48aa-ae09-c25d3f2a57c7",
   "metadata": {},
   "outputs": [],
   "source": [
    "data.drop(['Unnamed: 0.1', 'Unnamed: 0'], axis=1, inplace=True)"
   ]
  },
  {
   "cell_type": "code",
   "execution_count": 18,
   "id": "78c23a3f-5ff3-42c6-bb9e-ba6a7182e8cb",
   "metadata": {},
   "outputs": [
    {
     "data": {
      "text/plain": [
       "Company              object\n",
       "TypeName             object\n",
       "Inches               object\n",
       "ScreenResolution     object\n",
       "Cpu                  object\n",
       "Ram                  object\n",
       "Memory               object\n",
       "Gpu                  object\n",
       "OpSys                object\n",
       "Weight               object\n",
       "Price               float64\n",
       "dtype: object"
      ]
     },
     "execution_count": 18,
     "metadata": {},
     "output_type": "execute_result"
    }
   ],
   "source": [
    "data.dtypes"
   ]
  },
  {
   "cell_type": "code",
   "execution_count": 20,
   "id": "2bfe31fd-e1f1-435f-8bc7-6692d4e97bdb",
   "metadata": {},
   "outputs": [
    {
     "name": "stdout",
     "output_type": "stream",
     "text": [
      "<class 'pandas.core.frame.DataFrame'>\n",
      "RangeIndex: 1303 entries, 0 to 1302\n",
      "Data columns (total 11 columns):\n",
      " #   Column            Non-Null Count  Dtype  \n",
      "---  ------            --------------  -----  \n",
      " 0   Company           1273 non-null   object \n",
      " 1   TypeName          1273 non-null   object \n",
      " 2   Inches            1273 non-null   object \n",
      " 3   ScreenResolution  1273 non-null   object \n",
      " 4   Cpu               1273 non-null   object \n",
      " 5   Ram               1273 non-null   object \n",
      " 6   Memory            1273 non-null   object \n",
      " 7   Gpu               1273 non-null   object \n",
      " 8   OpSys             1273 non-null   object \n",
      " 9   Weight            1273 non-null   object \n",
      " 10  Price             1273 non-null   float64\n",
      "dtypes: float64(1), object(10)\n",
      "memory usage: 112.1+ KB\n"
     ]
    }
   ],
   "source": [
    "data.info()"
   ]
  },
  {
   "cell_type": "code",
   "execution_count": 22,
   "id": "59677629-ca2a-427a-85cc-aed3b46d601b",
   "metadata": {},
   "outputs": [
    {
     "data": {
      "text/plain": [
       "58"
      ]
     },
     "execution_count": 22,
     "metadata": {},
     "output_type": "execute_result"
    }
   ],
   "source": [
    "data.duplicated().sum()"
   ]
  },
  {
   "cell_type": "code",
   "execution_count": 24,
   "id": "10a4f89c-f5fe-441e-88ba-03307aa7a837",
   "metadata": {},
   "outputs": [],
   "source": [
    "data=data.drop_duplicates()"
   ]
  },
  {
   "cell_type": "markdown",
   "id": "dbbc27d3-e842-4da2-946f-c0c07a395d9f",
   "metadata": {},
   "source": [
    "## Null values Check"
   ]
  },
  {
   "cell_type": "code",
   "execution_count": 27,
   "id": "980f3633-9edb-4d7f-bbb2-8eee2624e6c4",
   "metadata": {},
   "outputs": [
    {
     "data": {
      "text/plain": [
       "Company             1\n",
       "TypeName            1\n",
       "Inches              1\n",
       "ScreenResolution    1\n",
       "Cpu                 1\n",
       "Ram                 1\n",
       "Memory              1\n",
       "Gpu                 1\n",
       "OpSys               1\n",
       "Weight              1\n",
       "Price               1\n",
       "dtype: int64"
      ]
     },
     "execution_count": 27,
     "metadata": {},
     "output_type": "execute_result"
    }
   ],
   "source": [
    "data.isnull().sum()"
   ]
  },
  {
   "cell_type": "code",
   "execution_count": 29,
   "id": "9464d6a2-3640-4134-a988-c3eb97447545",
   "metadata": {},
   "outputs": [
    {
     "data": {
      "text/html": [
       "<div>\n",
       "<style scoped>\n",
       "    .dataframe tbody tr th:only-of-type {\n",
       "        vertical-align: middle;\n",
       "    }\n",
       "\n",
       "    .dataframe tbody tr th {\n",
       "        vertical-align: top;\n",
       "    }\n",
       "\n",
       "    .dataframe thead th {\n",
       "        text-align: right;\n",
       "    }\n",
       "</style>\n",
       "<table border=\"1\" class=\"dataframe\">\n",
       "  <thead>\n",
       "    <tr style=\"text-align: right;\">\n",
       "      <th></th>\n",
       "      <th>Company</th>\n",
       "      <th>TypeName</th>\n",
       "      <th>Inches</th>\n",
       "      <th>ScreenResolution</th>\n",
       "      <th>Cpu</th>\n",
       "      <th>Ram</th>\n",
       "      <th>Memory</th>\n",
       "      <th>Gpu</th>\n",
       "      <th>OpSys</th>\n",
       "      <th>Weight</th>\n",
       "      <th>Price</th>\n",
       "    </tr>\n",
       "  </thead>\n",
       "  <tbody>\n",
       "    <tr>\n",
       "      <th>20</th>\n",
       "      <td>NaN</td>\n",
       "      <td>NaN</td>\n",
       "      <td>NaN</td>\n",
       "      <td>NaN</td>\n",
       "      <td>NaN</td>\n",
       "      <td>NaN</td>\n",
       "      <td>NaN</td>\n",
       "      <td>NaN</td>\n",
       "      <td>NaN</td>\n",
       "      <td>NaN</td>\n",
       "      <td>NaN</td>\n",
       "    </tr>\n",
       "  </tbody>\n",
       "</table>\n",
       "</div>"
      ],
      "text/plain": [
       "   Company TypeName Inches ScreenResolution  Cpu  Ram Memory  Gpu OpSys  \\\n",
       "20     NaN      NaN    NaN              NaN  NaN  NaN    NaN  NaN   NaN   \n",
       "\n",
       "   Weight  Price  \n",
       "20    NaN    NaN  "
      ]
     },
     "execution_count": 29,
     "metadata": {},
     "output_type": "execute_result"
    }
   ],
   "source": [
    "data[data.isnull().all(axis=1)]"
   ]
  },
  {
   "cell_type": "markdown",
   "id": "811b3341-eceb-49e3-8860-b4e85e13bdec",
   "metadata": {},
   "source": [
    "Dropping null values since all rows are Nan which are useless for the model."
   ]
  },
  {
   "cell_type": "code",
   "execution_count": 32,
   "id": "e5e003c2-22b9-41d2-8050-4996df98149d",
   "metadata": {},
   "outputs": [],
   "source": [
    "data.dropna(inplace=True)"
   ]
  },
  {
   "cell_type": "code",
   "execution_count": 34,
   "id": "e6636353-7f2f-4d8f-97bd-74bc09055ce2",
   "metadata": {},
   "outputs": [
    {
     "name": "stdout",
     "output_type": "stream",
     "text": [
      "<class 'pandas.core.frame.DataFrame'>\n",
      "Index: 1244 entries, 0 to 1273\n",
      "Data columns (total 11 columns):\n",
      " #   Column            Non-Null Count  Dtype  \n",
      "---  ------            --------------  -----  \n",
      " 0   Company           1244 non-null   object \n",
      " 1   TypeName          1244 non-null   object \n",
      " 2   Inches            1244 non-null   object \n",
      " 3   ScreenResolution  1244 non-null   object \n",
      " 4   Cpu               1244 non-null   object \n",
      " 5   Ram               1244 non-null   object \n",
      " 6   Memory            1244 non-null   object \n",
      " 7   Gpu               1244 non-null   object \n",
      " 8   OpSys             1244 non-null   object \n",
      " 9   Weight            1244 non-null   object \n",
      " 10  Price             1244 non-null   float64\n",
      "dtypes: float64(1), object(10)\n",
      "memory usage: 116.6+ KB\n"
     ]
    }
   ],
   "source": [
    "data.info()"
   ]
  },
  {
   "cell_type": "markdown",
   "id": "25907641-5e86-469e-9d33-d4799af71e34",
   "metadata": {},
   "source": [
    "## Datatypes Check"
   ]
  },
  {
   "cell_type": "code",
   "execution_count": 37,
   "id": "65e1e2e8-bc3a-4eea-800d-6b14649bffeb",
   "metadata": {},
   "outputs": [],
   "source": [
    "data.rename(columns={\"Inches\":\"Size(Inches)\",\"TypeName\":\"Type\",\"Ram\":\"Ram(GB)\",\"Weight\":\"Weight(Kg)\"},inplace=True)"
   ]
  },
  {
   "cell_type": "code",
   "execution_count": 39,
   "id": "eac42a93-6db2-40fc-adcd-bf5933e54e97",
   "metadata": {},
   "outputs": [],
   "source": [
    "data=data.replace(\"?\",np.nan)"
   ]
  },
  {
   "cell_type": "code",
   "execution_count": 41,
   "id": "da189a19-dcd7-4b9d-a9c2-dfbb2a06636d",
   "metadata": {},
   "outputs": [],
   "source": [
    "data[\"Size(Inches)\"]=data[\"Size(Inches)\"].astype(float)"
   ]
  },
  {
   "cell_type": "code",
   "execution_count": 43,
   "id": "1c685d02-2953-4ed8-8fa4-8a1345b92e2c",
   "metadata": {},
   "outputs": [
    {
     "name": "stdout",
     "output_type": "stream",
     "text": [
      "<class 'pandas.core.frame.DataFrame'>\n",
      "Index: 1244 entries, 0 to 1273\n",
      "Data columns (total 11 columns):\n",
      " #   Column            Non-Null Count  Dtype  \n",
      "---  ------            --------------  -----  \n",
      " 0   Company           1244 non-null   object \n",
      " 1   Type              1244 non-null   object \n",
      " 2   Size(Inches)      1243 non-null   float64\n",
      " 3   ScreenResolution  1244 non-null   object \n",
      " 4   Cpu               1244 non-null   object \n",
      " 5   Ram(GB)           1244 non-null   object \n",
      " 6   Memory            1243 non-null   object \n",
      " 7   Gpu               1244 non-null   object \n",
      " 8   OpSys             1244 non-null   object \n",
      " 9   Weight(Kg)        1243 non-null   object \n",
      " 10  Price             1244 non-null   float64\n",
      "dtypes: float64(2), object(9)\n",
      "memory usage: 116.6+ KB\n"
     ]
    }
   ],
   "source": [
    "data.info()"
   ]
  },
  {
   "cell_type": "code",
   "execution_count": 45,
   "id": "e47a04be-734d-4dbc-bd51-2798a05bbd0f",
   "metadata": {},
   "outputs": [],
   "source": [
    "data[\"Ram(GB)\"]=data[\"Ram(GB)\"].str.replace(\"GB\",\"\").astype(int)\n",
    "data[\"Weight(Kg)\"]=data[\"Weight(Kg)\"].str.replace(\"kg\",\"\").astype(float)"
   ]
  },
  {
   "cell_type": "code",
   "execution_count": 47,
   "id": "694f04fc-1e96-4d8e-b7b5-3c352ac2e623",
   "metadata": {},
   "outputs": [
    {
     "name": "stderr",
     "output_type": "stream",
     "text": [
      "C:\\Users\\yasod\\AppData\\Local\\Temp\\ipykernel_444\\686094488.py:2: FutureWarning: A value is trying to be set on a copy of a DataFrame or Series through chained assignment using an inplace method.\n",
      "The behavior will change in pandas 3.0. This inplace method will never work because the intermediate object on which we are setting values always behaves as a copy.\n",
      "\n",
      "For example, when doing 'df[col].method(value, inplace=True)', try using 'df.method({col: value}, inplace=True)' or df[col] = df[col].method(value) instead, to perform the operation inplace on the original object.\n",
      "\n",
      "\n",
      "  data['Memory'].fillna(data['Memory'].mode()[0], inplace=True)\n"
     ]
    }
   ],
   "source": [
    "# categorical column. hence filling null with mode value\n",
    "data['Memory'].fillna(data['Memory'].mode()[0], inplace=True)"
   ]
  },
  {
   "cell_type": "code",
   "execution_count": 49,
   "id": "c0a9febb-6d04-4422-b4c2-d5520df116ff",
   "metadata": {},
   "outputs": [
    {
     "data": {
      "image/png": "[encoded data removed]",
      "text/plain": [
       "<Figure size 1000x600 with 1 Axes>"
      ]
     },
     "metadata": {},
     "output_type": "display_data"
    },
    {
     "data": {
      "image/png": "[encoded data removed]",
      "text/plain": [
       "<Figure size 1000x600 with 1 Axes>"
      ]
     },
     "metadata": {},
     "output_type": "display_data"
    }
   ],
   "source": [
    "# numerical column. checking for outliers\n",
    "\n",
    "# Create a box plot for 'Size(Inches)'\n",
    "plt.figure(figsize=(10, 6))\n",
    "sns.boxplot(data['Size(Inches)'])\n",
    "plt.title('Box Plot for Size(Inches)')\n",
    "plt.show()\n",
    "\n",
    "# Create a box plot for 'Weight(Kg)'\n",
    "plt.figure(figsize=(10, 6))\n",
    "sns.boxplot(data['Weight(Kg)'])\n",
    "plt.title('Box Plot for Weight(Kg)')\n",
    "plt.show()\n"
   ]
  },
  {
   "cell_type": "code",
   "execution_count": 50,
   "id": "711b9848-f85f-4966-bdac-e3b1d15274ef",
   "metadata": {},
   "outputs": [
    {
     "name": "stderr",
     "output_type": "stream",
     "text": [
      "C:\\Users\\yasod\\AppData\\Local\\Temp\\ipykernel_444\\4114346304.py:2: FutureWarning: A value is trying to be set on a copy of a DataFrame or Series through chained assignment using an inplace method.\n",
      "The behavior will change in pandas 3.0. This inplace method will never work because the intermediate object on which we are setting values always behaves as a copy.\n",
      "\n",
      "For example, when doing 'df[col].method(value, inplace=True)', try using 'df.method({col: value}, inplace=True)' or df[col] = df[col].method(value) instead, to perform the operation inplace on the original object.\n",
      "\n",
      "\n",
      "  data[\"Size(Inches)\"].fillna(data[\"Size(Inches)\"].median(),inplace=True)\n",
      "C:\\Users\\yasod\\AppData\\Local\\Temp\\ipykernel_444\\4114346304.py:3: FutureWarning: A value is trying to be set on a copy of a DataFrame or Series through chained assignment using an inplace method.\n",
      "The behavior will change in pandas 3.0. This inplace method will never work because the intermediate object on which we are setting values always behaves as a copy.\n",
      "\n",
      "For example, when doing 'df[col].method(value, inplace=True)', try using 'df.method({col: value}, inplace=True)' or df[col] = df[col].method(value) instead, to perform the operation inplace on the original object.\n",
      "\n",
      "\n",
      "  data[\"Weight(Kg)\"].fillna(data[\"Weight(Kg)\"].median(),inplace=True)\n"
     ]
    }
   ],
   "source": [
    "#since many outliers handling null with median\n",
    "data[\"Size(Inches)\"].fillna(data[\"Size(Inches)\"].median(),inplace=True)\n",
    "data[\"Weight(Kg)\"].fillna(data[\"Weight(Kg)\"].median(),inplace=True)"
   ]
  },
  {
   "cell_type": "code",
   "execution_count": 53,
   "id": "053cbfe3-3045-41c9-833f-02d87a7ede9b",
   "metadata": {},
   "outputs": [
    {
     "name": "stdout",
     "output_type": "stream",
     "text": [
      "<class 'pandas.core.frame.DataFrame'>\n",
      "Index: 1244 entries, 0 to 1273\n",
      "Data columns (total 11 columns):\n",
      " #   Column            Non-Null Count  Dtype  \n",
      "---  ------            --------------  -----  \n",
      " 0   Company           1244 non-null   object \n",
      " 1   Type              1244 non-null   object \n",
      " 2   Size(Inches)      1244 non-null   float64\n",
      " 3   ScreenResolution  1244 non-null   object \n",
      " 4   Cpu               1244 non-null   object \n",
      " 5   Ram(GB)           1244 non-null   int32  \n",
      " 6   Memory            1244 non-null   object \n",
      " 7   Gpu               1244 non-null   object \n",
      " 8   OpSys             1244 non-null   object \n",
      " 9   Weight(Kg)        1244 non-null   float64\n",
      " 10  Price             1244 non-null   float64\n",
      "dtypes: float64(3), int32(1), object(7)\n",
      "memory usage: 111.8+ KB\n"
     ]
    }
   ],
   "source": [
    "data.info()"
   ]
  },
  {
   "cell_type": "code",
   "execution_count": 55,
   "id": "c245c515-a457-4b28-adab-ab42ebd436cf",
   "metadata": {},
   "outputs": [
    {
     "name": "stdout",
     "output_type": "stream",
     "text": [
      "Index(['Size(Inches)', 'Weight(Kg)', 'Price'], dtype='object')\n",
      "3\n"
     ]
    }
   ],
   "source": [
    "num_col=data.select_dtypes(include=[\"int64\",\"float64\"]).columns\n",
    "print(num_col)\n",
    "print(len(num_col))"
   ]
  },
  {
   "cell_type": "code",
   "execution_count": 57,
   "id": "e4855906-0f8d-4e74-9a1d-f45a887082b9",
   "metadata": {},
   "outputs": [
    {
     "name": "stdout",
     "output_type": "stream",
     "text": [
      "Index(['Company', 'Type', 'ScreenResolution', 'Cpu', 'Memory', 'Gpu', 'OpSys'], dtype='object')\n",
      "7\n"
     ]
    }
   ],
   "source": [
    "cat_col=data.select_dtypes(include=\"object\").columns\n",
    "print(cat_col)\n",
    "print(len(cat_col))"
   ]
  },
  {
   "cell_type": "markdown",
   "id": "937e3589-4afd-4a73-b3eb-29c9c4b28695",
   "metadata": {},
   "source": [
    "### Outlier Handling for numerical columns"
   ]
  },
  {
   "cell_type": "code",
   "execution_count": 60,
   "id": "419f7e6c-96ab-45b1-9e99-fda4d3649279",
   "metadata": {},
   "outputs": [
    {
     "data": {
      "image/png": "[encoded data removed]",
      "text/plain": [
       "<Figure size 1000x500 with 1 Axes>"
      ]
     },
     "metadata": {},
     "output_type": "display_data"
    },
    {
     "data": {
      "image/png": "[encoded data removed]",
      "text/plain": [
       "<Figure size 1000x500 with 1 Axes>"
      ]
     },
     "metadata": {},
     "output_type": "display_data"
    },
    {
     "data": {
      "image/png": "[encoded data removed]",
      "text/plain": [
       "<Figure size 1000x500 with 1 Axes>"
      ]
     },
     "metadata": {},
     "output_type": "display_data"
    }
   ],
   "source": [
    "for i in num_col:\n",
    "    Q1=data[i].quantile(0.25)\n",
    "    Q3=data[i].quantile(0.75)\n",
    "    IQR=Q3-Q1\n",
    "\n",
    "    lb = Q1 - 1.5*IQR\n",
    "    ub = Q3 + 1.5*IQR\n",
    "    outliers=data[(data[i]<lb) | (data[i]>ub)]\n",
    "    #print(outliers[i])\n",
    "\n",
    "    data[i]=data[i].clip(lower=lb,upper=ub)\n",
    "    \n",
    "    plt.figure(figsize=(10,5))\n",
    "    sns.boxplot(x=data[i])\n",
    "    plt.title(f'Box plot for {i}')\n",
    "    plt.show()\n",
    "   "
   ]
  },
  {
   "cell_type": "markdown",
   "id": "86f6132e-f7c1-440f-811c-c5c15ec5fc59",
   "metadata": {},
   "source": [
    "## Feature Engineering\n"
   ]
  },
  {
   "cell_type": "markdown",
   "id": "f62b4f71-d9bb-4cc6-a025-8067a5b8f08c",
   "metadata": {},
   "source": [
    "### Feature Engg: \"ScreenResolution\""
   ]
  },
  {
   "cell_type": "code",
   "execution_count": 64,
   "id": "f4c2eb1b-10ed-434f-b066-8acc8d149680",
   "metadata": {},
   "outputs": [],
   "source": [
    "data[\"Touchscreen\"]=data[\"ScreenResolution\"].apply(lambda x:1 if \"Touchscreen\" in x else 0)"
   ]
  },
  {
   "cell_type": "code",
   "execution_count": 66,
   "id": "651eab36-4c7a-41a1-9994-5f54fd143734",
   "metadata": {},
   "outputs": [],
   "source": [
    "data[[\"x_res\",\"y_res\"]]=data[\"ScreenResolution\"].str.extract(r'(\\d+)\\s*x\\s*(\\d+)')\n",
    "data[[\"x_res\",\"y_res\"]]=data[[\"x_res\",\"y_res\"]].astype(int)"
   ]
  },
  {
   "cell_type": "code",
   "execution_count": 68,
   "id": "d8e368db-2493-499b-8d6e-8b9bf8d81508",
   "metadata": {},
   "outputs": [],
   "source": [
    "data.drop(columns=\"ScreenResolution\",inplace=True)"
   ]
  },
  {
   "cell_type": "markdown",
   "id": "7fa06a62-e5c3-4d20-9de3-647bec97ba46",
   "metadata": {},
   "source": [
    "### Feature Engg: \"Memory\""
   ]
  },
  {
   "cell_type": "code",
   "execution_count": 71,
   "id": "fe6f75ef-f72e-4933-9b6a-645c8fafb973",
   "metadata": {},
   "outputs": [],
   "source": [
    "def extract_SSD(memory_string):\n",
    "    parts = memory_string.split()\n",
    "    for i in range(len(parts)):\n",
    "        if parts[i] == \"SSD\":\n",
    "            size = parts[i - 1]\n",
    "            return convert_to_gb(size)\n",
    "    return 0\n",
    "\n",
    "def extract_HDD(memory_string):\n",
    "    parts = memory_string.split()\n",
    "    for i in range(len(parts)):\n",
    "        if parts[i] == \"HDD\":\n",
    "            size = parts[i - 1]\n",
    "            return convert_to_gb(size)\n",
    "    return 0\n",
    "\n",
    "def Flash_storage(memory_string):\n",
    "    parts = memory_string.split()\n",
    "    for i in range(len(parts) - 1):  # Prevent index out of range\n",
    "        if \"Flash\" in parts[i] and \"Storage\" in parts[i + 1]:\n",
    "            size = parts[i - 1]\n",
    "            return convert_to_gb(size)\n",
    "    return 0\n",
    "\n",
    "def extract_Hybrid(memory_string):\n",
    "    parts = memory_string.split()\n",
    "    for i in range(len(parts)):\n",
    "        if parts[i] == \"Hybrid\":\n",
    "            size = parts[i - 1]\n",
    "            return convert_to_gb(size)\n",
    "    return 0\n",
    "\n",
    "def convert_to_gb(size_str):\n",
    "    if \"GB\" in size_str:\n",
    "        return int(size_str.replace(\"GB\", \"\"))\n",
    "    elif \"TB\" in size_str:\n",
    "        return int(float(size_str.replace(\"TB\", \"\")) * 1024)\n",
    "    return 0\n"
   ]
  },
  {
   "cell_type": "code",
   "execution_count": 73,
   "id": "cb57af65-4eb3-4add-a4b0-513c9b464a49",
   "metadata": {},
   "outputs": [],
   "source": [
    "data[\"SSD_size(GB)\"] = data[\"Memory\"].apply(extract_SSD)\n",
    "data[\"HDD_size(GB)\"] = data[\"Memory\"].apply(extract_HDD)\n",
    "data[\"Flash_Storage\"] = data[\"Memory\"].apply(Flash_storage)\n",
    "data[\"Hybrid_size(GB)\"] = data[\"Memory\"].apply(extract_Hybrid)\n",
    "\n",
    "data.drop(columns=\"Memory\", inplace=True)\n"
   ]
  },
  {
   "cell_type": "markdown",
   "id": "2b9b8648-d21f-41e4-8d19-6d26b794bfdc",
   "metadata": {},
   "source": [
    "### Feature Engg: combining \"Size(Inches) and \"ScreenResolution\" to get PPI(Pixes per inch)"
   ]
  },
  {
   "cell_type": "code",
   "execution_count": 76,
   "id": "06cb249a-30ae-4c87-b14d-4dbcf21a1e11",
   "metadata": {},
   "outputs": [],
   "source": [
    "data[\"PPI\"]=((data[\"x_res\"]**2 + data[\"y_res\"]**2)**0.5)/data[\"Size(Inches)\"]\n",
    "data.drop(columns=[\"Size(Inches)\",\"x_res\",\"y_res\"],inplace=True)"
   ]
  },
  {
   "cell_type": "code",
   "execution_count": 78,
   "id": "b594ea6c-f1c8-4bbb-836b-0efb857e95e3",
   "metadata": {},
   "outputs": [
    {
     "data": {
      "text/plain": [
       "Index(['Company', 'Type', 'Cpu', 'Ram(GB)', 'Gpu', 'OpSys', 'Weight(Kg)',\n",
       "       'Price', 'Touchscreen', 'SSD_size(GB)', 'HDD_size(GB)', 'Flash_Storage',\n",
       "       'Hybrid_size(GB)', 'PPI'],\n",
       "      dtype='object')"
      ]
     },
     "execution_count": 78,
     "metadata": {},
     "output_type": "execute_result"
    }
   ],
   "source": [
    "data.columns"
   ]
  },
  {
   "cell_type": "markdown",
   "id": "c8359992-2daa-4d5d-8f61-e458a6848570",
   "metadata": {},
   "source": [
    "### Feature Engg: \"CPU\""
   ]
  },
  {
   "cell_type": "code",
   "execution_count": 81,
   "id": "970f65f8-7cb2-4858-9fd4-d735b2a75d84",
   "metadata": {},
   "outputs": [
    {
     "name": "stderr",
     "output_type": "stream",
     "text": [
      "C:\\Users\\yasod\\AppData\\Local\\Temp\\ipykernel_444\\892598944.py:5: FutureWarning: A value is trying to be set on a copy of a DataFrame or Series through chained assignment using an inplace method.\n",
      "The behavior will change in pandas 3.0. This inplace method will never work because the intermediate object on which we are setting values always behaves as a copy.\n",
      "\n",
      "For example, when doing 'df[col].method(value, inplace=True)', try using 'df.method({col: value}, inplace=True)' or df[col] = df[col].method(value) instead, to perform the operation inplace on the original object.\n",
      "\n",
      "\n",
      "  data['CPU_Manufacturer'].fillna(data['CPU_Manufacturer'].mode()[0], inplace=True)\n",
      "C:\\Users\\yasod\\AppData\\Local\\Temp\\ipykernel_444\\892598944.py:6: FutureWarning: A value is trying to be set on a copy of a DataFrame or Series through chained assignment using an inplace method.\n",
      "The behavior will change in pandas 3.0. This inplace method will never work because the intermediate object on which we are setting values always behaves as a copy.\n",
      "\n",
      "For example, when doing 'df[col].method(value, inplace=True)', try using 'df.method({col: value}, inplace=True)' or df[col] = df[col].method(value) instead, to perform the operation inplace on the original object.\n",
      "\n",
      "\n",
      "  data['CPU_Model'].fillna(data['CPU_Model'].mode()[0], inplace=True)\n",
      "C:\\Users\\yasod\\AppData\\Local\\Temp\\ipykernel_444\\892598944.py:7: FutureWarning: A value is trying to be set on a copy of a DataFrame or Series through chained assignment using an inplace method.\n",
      "The behavior will change in pandas 3.0. This inplace method will never work because the intermediate object on which we are setting values always behaves as a copy.\n",
      "\n",
      "For example, when doing 'df[col].method(value, inplace=True)', try using 'df.method({col: value}, inplace=True)' or df[col] = df[col].method(value) instead, to perform the operation inplace on the original object.\n",
      "\n",
      "\n",
      "  data['CPU_Clock_Speed'].fillna(data['CPU_Clock_Speed'].mean(), inplace=True)\n"
     ]
    }
   ],
   "source": [
    "data[\"CPU_Model\"] = data[\"Cpu\"].str.extract(r\"(Intel Core i[357]\\s*\\d{3,4}|Intel Pentium|AMD Ryzen \\d|Apple M1|AMD A\\d-Series)\")\n",
    "data[\"CPU_Manufacturer\"] = data[\"Cpu\"].str.extract(r\"(Intel|AMD)\")\n",
    "data[\"CPU_Clock_Speed\"] = data[\"Cpu\"].str.extract(r\"(\\d+\\.\\d+)GHz\").astype(float)\n",
    "\n",
    "data['CPU_Manufacturer'].fillna(data['CPU_Manufacturer'].mode()[0], inplace=True)\n",
    "data['CPU_Model'].fillna(data['CPU_Model'].mode()[0], inplace=True)\n",
    "data['CPU_Clock_Speed'].fillna(data['CPU_Clock_Speed'].mean(), inplace=True)\n",
    "\n",
    "data.drop(columns=[\"Cpu\"], inplace=True)"
   ]
  },
  {
   "cell_type": "markdown",
   "id": "2b7ee275-2eda-462c-9866-be79e1324f39",
   "metadata": {},
   "source": [
    "### Feature Engg: \"GPU\""
   ]
  },
  {
   "cell_type": "code",
   "execution_count": 84,
   "id": "35753468-fd98-4fc2-bafb-53bb7882af75",
   "metadata": {},
   "outputs": [
    {
     "name": "stderr",
     "output_type": "stream",
     "text": [
      "C:\\Users\\yasod\\AppData\\Local\\Temp\\ipykernel_444\\2016789563.py:5: FutureWarning: A value is trying to be set on a copy of a DataFrame or Series through chained assignment using an inplace method.\n",
      "The behavior will change in pandas 3.0. This inplace method will never work because the intermediate object on which we are setting values always behaves as a copy.\n",
      "\n",
      "For example, when doing 'df[col].method(value, inplace=True)', try using 'df.method({col: value}, inplace=True)' or df[col] = df[col].method(value) instead, to perform the operation inplace on the original object.\n",
      "\n",
      "\n",
      "  data[\"GPU_Manufacturer\"].fillna(\"Unknown\", inplace=True)\n",
      "C:\\Users\\yasod\\AppData\\Local\\Temp\\ipykernel_444\\2016789563.py:6: FutureWarning: A value is trying to be set on a copy of a DataFrame or Series through chained assignment using an inplace method.\n",
      "The behavior will change in pandas 3.0. This inplace method will never work because the intermediate object on which we are setting values always behaves as a copy.\n",
      "\n",
      "For example, when doing 'df[col].method(value, inplace=True)', try using 'df.method({col: value}, inplace=True)' or df[col] = df[col].method(value) instead, to perform the operation inplace on the original object.\n",
      "\n",
      "\n",
      "  data[\"GPU_Model\"].fillna(\"Unknown\", inplace=True)\n",
      "C:\\Users\\yasod\\AppData\\Local\\Temp\\ipykernel_444\\2016789563.py:7: FutureWarning: A value is trying to be set on a copy of a DataFrame or Series through chained assignment using an inplace method.\n",
      "The behavior will change in pandas 3.0. This inplace method will never work because the intermediate object on which we are setting values always behaves as a copy.\n",
      "\n",
      "For example, when doing 'df[col].method(value, inplace=True)', try using 'df.method({col: value}, inplace=True)' or df[col] = df[col].method(value) instead, to perform the operation inplace on the original object.\n",
      "\n",
      "\n",
      "  data[\"GPU_Series\"].fillna(\"Unknown\", inplace=True)\n"
     ]
    }
   ],
   "source": [
    "data[\"GPU_Manufacturer\"] = data[\"Gpu\"].str.extract(r\"(Intel|Nvidia|AMD|ARM)\")\n",
    "data[\"GPU_Model\"] = data[\"Gpu\"].str.extract(r\"(GeForce [\\w\\s]+|Radeon [\\w\\s]+|UHD Graphics [\\d]+|HD Graphics [\\d]+|Mali [\\w\\s]+)\")\n",
    "data[\"GPU_Series\"] = data[\"Gpu\"].str.extract(r\"(GeForce|Radeon|UHD|HD|Mali)\")\n",
    "\n",
    "data[\"GPU_Manufacturer\"].fillna(\"Unknown\", inplace=True)\n",
    "data[\"GPU_Model\"].fillna(\"Unknown\", inplace=True)\n",
    "data[\"GPU_Series\"].fillna(\"Unknown\", inplace=True)\n",
    "\n",
    "data.drop(columns=[\"Gpu\"], inplace=True)"
   ]
  },
  {
   "cell_type": "code",
   "execution_count": 86,
   "id": "fda51fa1-9dd5-44cb-af6b-c51fba693c34",
   "metadata": {},
   "outputs": [
    {
     "data": {
      "text/plain": [
       "OpSys\n",
       "Windows 10      1022\n",
       "No OS             63\n",
       "Linux             57\n",
       "Windows 7         45\n",
       "Chrome OS         27\n",
       "macOS             13\n",
       "Mac OS X           8\n",
       "Windows 10 S       8\n",
       "Android            1\n",
       "Name: count, dtype: int64"
      ]
     },
     "execution_count": 86,
     "metadata": {},
     "output_type": "execute_result"
    }
   ],
   "source": [
    "data[\"OpSys\"].value_counts()"
   ]
  },
  {
   "cell_type": "code",
   "execution_count": 88,
   "id": "9bfbf326-daa9-477a-9814-3edcdf555671",
   "metadata": {},
   "outputs": [
    {
     "data": {
      "text/plain": [
       "GPU_Series\n",
       "HD         603\n",
       "GeForce    357\n",
       "Radeon     163\n",
       "UHD         66\n",
       "Unknown     54\n",
       "Mali         1\n",
       "Name: count, dtype: int64"
      ]
     },
     "execution_count": 88,
     "metadata": {},
     "output_type": "execute_result"
    }
   ],
   "source": [
    "data[\"GPU_Series\"].value_counts()"
   ]
  },
  {
   "cell_type": "markdown",
   "id": "fb97bde1-e5c8-4a1b-befb-ff774db6035d",
   "metadata": {},
   "source": [
    "## Encoding"
   ]
  },
  {
   "cell_type": "code",
   "execution_count": 91,
   "id": "0a616806-bb92-4d58-93c8-8e32d64d12fa",
   "metadata": {},
   "outputs": [],
   "source": [
    "# Apply Label Encoding to CPU and GPU Manufacturers\n",
    "from sklearn.preprocessing import LabelEncoder\n",
    "\n",
    "encoder = LabelEncoder()\n",
    "data['CPU_Manufacturer_Encoded'] = encoder.fit_transform(data['CPU_Manufacturer'])\n",
    "data['GPU_Manufacturer_Encoded'] = encoder.fit_transform(data['GPU_Manufacturer'])\n",
    "\n",
    "# Apply One-Hot Encoding to categorical columns using get_dummies\n",
    "data = pd.get_dummies(data, columns=[\"Company\", \"Type\", \"CPU_Model\", \"GPU_Model\", \"OpSys\", \"GPU_Series\"], drop_first=True)\n",
    "\n",
    "data.drop(columns=['CPU_Manufacturer', 'GPU_Manufacturer'], inplace=True)\n"
   ]
  },
  {
   "cell_type": "code",
   "execution_count": 93,
   "id": "5f2b12ee-d584-4ae8-bf93-3b5cbb317187",
   "metadata": {
    "scrolled": true
   },
   "outputs": [
    {
     "name": "stdout",
     "output_type": "stream",
     "text": [
      "Index(['Weight(Kg)', 'Price', 'Touchscreen', 'SSD_size(GB)', 'HDD_size(GB)',\n",
      "       'Flash_Storage', 'Hybrid_size(GB)', 'PPI', 'CPU_Clock_Speed'],\n",
      "      dtype='object')\n",
      "9\n"
     ]
    },
    {
     "data": {
      "text/plain": [
       "<function matplotlib.pyplot.show(close=None, block=None)>"
      ]
     },
     "execution_count": 93,
     "metadata": {},
     "output_type": "execute_result"
    },
    {
     "data": {
      "image/png": "[encoded data removed]",
      "text/plain": [
       "<Figure size 1000x500 with 2 Axes>"
      ]
     },
     "metadata": {},
     "output_type": "display_data"
    }
   ],
   "source": [
    "num_col=data.select_dtypes(include=[\"int64\",\"float64\"]).columns\n",
    "print(num_col)\n",
    "print(len(num_col))\n",
    "\n",
    "plt.figure(figsize=(10,5))\n",
    "plt.title(\"Correlation heatmap\")\n",
    "sns.heatmap(data[num_col].corr(),annot=True,cmap=\"coolwarm\")\n",
    "plt.show"
   ]
  },
  {
   "cell_type": "markdown",
   "id": "b23a425b-eca0-443d-8e44-f4f26db16211",
   "metadata": {},
   "source": [
    "## Feature Selection"
   ]
  },
  {
   "cell_type": "code",
   "execution_count": 98,
   "id": "06c89618-8cc8-4ad8-92a7-d1c3f1944ba3",
   "metadata": {},
   "outputs": [
    {
     "name": "stdout",
     "output_type": "stream",
     "text": [
      "Price                           1.000000\n",
      "SSD_size(GB)                    0.666803\n",
      "Ram(GB)                         0.658035\n",
      "PPI                             0.481716\n",
      "CPU_Clock_Speed                 0.425989\n",
      "                                  ...   \n",
      "GPU_Model_HD Graphics 500      -0.219768\n",
      "GPU_Series_Radeon              -0.220173\n",
      "CPU_Model_Intel Core i3 6006   -0.253705\n",
      "CPU_Model_Intel Core i5 7200   -0.272159\n",
      "Type_Notebook                  -0.584709\n",
      "Name: Price, Length: 163, dtype: float64\n"
     ]
    }
   ],
   "source": [
    "corr_matrix=data.corr(numeric_only=True)\n",
    "correlation = corr_matrix['Price'].sort_values(ascending=False)\n",
    "print(correlation)"
   ]
  },
  {
   "cell_type": "code",
   "execution_count": 100,
   "id": "d50b687d-3017-41bf-bc84-d790af8b795e",
   "metadata": {},
   "outputs": [
    {
     "name": "stdout",
     "output_type": "stream",
     "text": [
      "['Price', 'SSD_size(GB)', 'Ram(GB)', 'PPI', 'CPU_Clock_Speed', 'Type_Gaming', 'GPU_Model_GeForce GTX 1070', 'CPU_Model_Intel Core i7 7700', 'GPU_Manufacturer_Encoded', 'Type_Notebook']\n"
     ]
    }
   ],
   "source": [
    "selected_features=correlation[abs(correlation)>0.3].index.tolist()\n",
    "print(selected_features)\n",
    "\n",
    "selected_features.remove(\"Price\")\n",
    "\n",
    "X_filtered=data[selected_features]\n",
    "y=data[\"Price\"]"
   ]
  },
  {
   "cell_type": "markdown",
   "id": "d20234a1-c3e0-454b-baf7-219f14eb992a",
   "metadata": {},
   "source": [
    "corr_selected=X_filtered.corr()\n",
    "plt.figure(figsize=(10,8))\n",
    "sns.heatmap(corr_selected, annot=True, cmap='coolwarm')\n",
    "plt.title(\"Correlation Between Selected Features\")\n",
    "plt.show()"
   ]
  },
  {
   "cell_type": "code",
   "execution_count": 103,
   "id": "36a768ae-38f3-41e2-87fb-cd6e91b2cde0",
   "metadata": {},
   "outputs": [
    {
     "name": "stdout",
     "output_type": "stream",
     "text": [
      "<class 'pandas.core.frame.DataFrame'>\n",
      "Index: 1244 entries, 0 to 1273\n",
      "Columns: 163 entries, Ram(GB) to GPU_Series_Unknown\n",
      "dtypes: bool(151), float64(4), int32(3), int64(5)\n",
      "memory usage: 295.2 KB\n"
     ]
    }
   ],
   "source": [
    "data.info()"
   ]
  },
  {
   "cell_type": "markdown",
   "id": "990dce38-cfdb-4296-8b2d-8fa345199fb3",
   "metadata": {},
   "source": [
    "Summary:\n",
    "Total rows: 1244\n",
    "Total columns: 163\n",
    "Data types:\n",
    "bool: 151 columns → likely from get_dummies() (One-Hot Encoding)\n",
    "float64: 4 columns → probably continuous features like Price, PPI, etc.\n",
    "int32: 3 columns → possibly encoded values or count-based features\n",
    "int64: 5 columns → like Ram(GB), storage sizes, etc.\n",
    "Memory usage: Reasonable (295.2 KB)\n",
    "\n",
    "Fully numeric ✅\n",
    "\n",
    "Cleaned and encoded ✅\n",
    "\n",
    "Free from object-type columns ✅ Can proceed to Modelling"
   ]
  },
  {
   "cell_type": "markdown",
   "id": "5c901cb0-96d3-4e61-b7c4-07ce3eddb00d",
   "metadata": {},
   "source": [
    "# Model Building and Evaluation"
   ]
  },
  {
   "cell_type": "markdown",
   "id": "b825db18-424c-411a-be7c-721cf99edd47",
   "metadata": {},
   "source": [
    "- Train-test split\n",
    "- Models:\n",
    "  - Linear Regression (optional baseline)\n",
    "  - Random Forest\n",
    "  - Gradient Boosting\n",
    "  - XGBoost\n",
    "- Evaluation metrics:\n",
    "  - R2 Score\n",
    "  - MAE\n",
    "  - MSE\n",
    "  - RMSE"
   ]
  },
  {
   "cell_type": "markdown",
   "id": "b8fabacd-e1fc-401a-b05c-515cdb907d35",
   "metadata": {},
   "source": [
    "## Overfit/Underfit Check"
   ]
  },
  {
   "cell_type": "code",
   "execution_count": 157,
   "id": "ba61859e-4c0d-4928-850f-0181babe91df",
   "metadata": {},
   "outputs": [
    {
     "name": "stdout",
     "output_type": "stream",
     "text": [
      "R2_score(train): 0.8676855340154016\n",
      "R2_score(test): 0.7631407553747114\n"
     ]
    }
   ],
   "source": [
    "from sklearn.model_selection import train_test_split\n",
    "from sklearn.linear_model import LinearRegression\n",
    "from sklearn.metrics import mean_squared_error,mean_absolute_error,r2_score\n",
    "\n",
    "X=data.drop(\"Price\",axis=1)\n",
    "y=data[\"Price\"]\n",
    "\n",
    "X_train,X_test,y_train,y_test=train_test_split(X,y,test_size=0.2,random_state = 21)\n",
    "\n",
    "model=LinearRegression()\n",
    "model.fit(X_train,y_train)\n",
    "\n",
    "y_train_pred=model.predict(X_train)\n",
    "y_test_pred=model.predict(X_test)\n",
    "\n",
    "print(\"R2_score(train):\",r2_score(y_train,y_train_pred))\n",
    "print(\"R2_score(test):\",r2_score(y_test,y_test_pred))"
   ]
  },
  {
   "cell_type": "code",
   "execution_count": 159,
   "id": "da59ed97-62ee-4299-a5ae-93bb55f9226b",
   "metadata": {},
   "outputs": [
    {
     "name": "stdout",
     "output_type": "stream",
     "text": [
      "R2_square: 0.7631407553747114\n",
      "MAE: 11604.603047660017\n",
      "MSE: 263316189.76306006\n",
      "RMSE: 16227.02035997552\n"
     ]
    }
   ],
   "source": [
    "from sklearn.model_selection import train_test_split\n",
    "from sklearn.linear_model import LinearRegression\n",
    "from sklearn.metrics import mean_squared_error,mean_absolute_error,r2_score\n",
    "\n",
    "X=data.drop(\"Price\",axis=1)\n",
    "y=data[\"Price\"]\n",
    "\n",
    "X_train,X_test,y_train,y_test=train_test_split(X,y,test_size=0.2,random_state=21)\n",
    "\n",
    "model=LinearRegression()\n",
    "model.fit(X_train,y_train)\n",
    "\n",
    "y_pred=model.predict(X_test)\n",
    "\n",
    "print(\"R2_square:\",r2_score(y_test,y_pred))\n",
    "print(\"MAE:\",mean_absolute_error(y_test,y_pred))\n",
    "print(\"MSE:\",mean_squared_error(y_test,y_pred))\n",
    "print(\"RMSE:\",np.sqrt(mean_squared_error(y_test,y_pred)))\n"
   ]
  },
  {
   "cell_type": "code",
   "execution_count": 163,
   "id": "8250e543-74d3-4169-8868-05718e949352",
   "metadata": {},
   "outputs": [
    {
     "name": "stdout",
     "output_type": "stream",
     "text": [
      "R2_score: 0.6775110995989718\n",
      "MAE: 13018.20196626506\n",
      "MSE: 358510594.0399992\n",
      "RMSE: 18934.37598760517\n"
     ]
    }
   ],
   "source": [
    "from sklearn.tree import DecisionTreeRegressor\n",
    "\n",
    "DT=DecisionTreeRegressor()\n",
    "DT.fit(X_train,y_train)\n",
    "\n",
    "y_pred=DT.predict(X_test)\n",
    "\n",
    "print(\"R2_score:\",r2_score(y_test,y_pred))\n",
    "print(\"MAE:\",mean_absolute_error(y_test,y_pred))\n",
    "print(\"MSE:\",mean_squared_error(y_test,y_pred))\n",
    "print(\"RMSE:\",np.sqrt(mean_squared_error(y_test,y_pred)))"
   ]
  },
  {
   "cell_type": "code",
   "execution_count": 165,
   "id": "ccc40177-372a-4242-b935-f5d60881567f",
   "metadata": {},
   "outputs": [
    {
     "name": "stdout",
     "output_type": "stream",
     "text": [
      "R2_score: 0.7498346812490158\n",
      "MAE: 11641.116975903617\n",
      "MSE: 278108539.3081491\n",
      "RMSE: 16676.58656044903\n"
     ]
    }
   ],
   "source": [
    "from sklearn.neighbors import KNeighborsRegressor\n",
    "\n",
    "KNN=KNeighborsRegressor()\n",
    "KNN.fit(X_train,y_train)\n",
    "\n",
    "y_pred=KNN.predict(X_test)\n",
    "\n",
    "print(\"R2_score:\",r2_score(y_test,y_pred))\n",
    "print(\"MAE:\",mean_absolute_error(y_test,y_pred))\n",
    "print(\"MSE:\",mean_squared_error(y_test,y_pred))\n",
    "print(\"RMSE:\",np.sqrt(mean_squared_error(y_test,y_pred)))"
   ]
  },
  {
   "cell_type": "code",
   "execution_count": 161,
   "id": "cde8d3c5-5f7d-40be-80bb-902b29fd1934",
   "metadata": {},
   "outputs": [
    {
     "name": "stdout",
     "output_type": "stream",
     "text": [
      "R2_square: 0.8270012442722016\n",
      "MAE: 9468.008329140102\n",
      "MSE: 192322546.93735805\n",
      "RMSE: 13868.040486577693\n"
     ]
    }
   ],
   "source": [
    "from sklearn.ensemble import RandomForestRegressor\n",
    "\n",
    "rf = RandomForestRegressor(random_state=42)\n",
    "rf.fit(X_train, y_train)\n",
    "\n",
    "y_pred=rf.predict(X_test)\n",
    "\n",
    "print(\"R2_square:\",r2_score(y_test,y_pred))\n",
    "print(\"MAE:\",mean_absolute_error(y_test,y_pred))\n",
    "print(\"MSE:\",mean_squared_error(y_test,y_pred))\n",
    "print(\"RMSE:\",np.sqrt(mean_squared_error(y_test,y_pred)))\n"
   ]
  },
  {
   "cell_type": "code",
   "execution_count": 171,
   "id": "e367e941-d757-417a-84ae-01c8ae201e6c",
   "metadata": {},
   "outputs": [
    {
     "name": "stdout",
     "output_type": "stream",
     "text": [
      "R2_square: 0.8283845797420629\n",
      "MAE: 10557.352360145742\n",
      "MSE: 213393987.3763953\n",
      "RMSE: 14608.011068464977\n"
     ]
    }
   ],
   "source": [
    "from sklearn.ensemble import RandomForestRegressor\n",
    "\n",
    "X_train,X_test,y_train,y_test=train_test_split(X,y,test_size=0.2,train_size=0.8,random_state=23)\n",
    "\n",
    "model=LinearRegression()\n",
    "model.fit(X_train,y_train)\n",
    "\n",
    "y_pred=model.predict(X_test)\n",
    "\n",
    "print(\"R2_square:\",r2_score(y_test,y_pred))\n",
    "print(\"MAE:\",mean_absolute_error(y_test,y_pred))\n",
    "print(\"MSE:\",mean_squared_error(y_test,y_pred))\n",
    "print(\"RMSE:\",np.sqrt(mean_squared_error(y_test,y_pred)))"
   ]
  },
  {
   "cell_type": "code",
   "execution_count": 173,
   "id": "e9f2bb55-d812-482a-a4c7-38a1b73a118b",
   "metadata": {},
   "outputs": [
    {
     "name": "stdout",
     "output_type": "stream",
     "text": [
      "R2_square: 0.8682275280411834\n",
      "MAE: 9455.659282684952\n",
      "MSE: 163851553.52282867\n",
      "RMSE: 12800.451301529516\n"
     ]
    }
   ],
   "source": [
    "from sklearn.ensemble import GradientBoostingRegressor\n",
    "\n",
    "gb = GradientBoostingRegressor(random_state=42)\n",
    "gb.fit(X_train, y_train)\n",
    "\n",
    "y_pred=gb.predict(X_test)\n",
    "\n",
    "print(\"R2_square:\",r2_score(y_test,y_pred))\n",
    "print(\"MAE:\",mean_absolute_error(y_test,y_pred))\n",
    "print(\"MSE:\",mean_squared_error(y_test,y_pred))\n",
    "print(\"RMSE:\",np.sqrt(mean_squared_error(y_test,y_pred)))"
   ]
  },
  {
   "cell_type": "code",
   "execution_count": 175,
   "id": "96e4a4a8-34e0-4d16-895d-c39ee1ca0f6b",
   "metadata": {},
   "outputs": [
    {
     "name": "stdout",
     "output_type": "stream",
     "text": [
      "XGBoost Performance:\n",
      "R2 Score: 0.8544195763115705\n",
      "MAE: 9039.918882435994\n",
      "MSE: 181020953.99193722\n",
      "RMSE: 13454.402773513852\n"
     ]
    }
   ],
   "source": [
    "from xgboost import XGBRegressor\n",
    "\n",
    "xgb = XGBRegressor(objective='reg:squarederror', random_state=42)\n",
    "xgb.fit(X_train, y_train)\n",
    "\n",
    "# 3. Predict\n",
    "y_pred = xgb.predict(X_test)\n",
    "\n",
    "# 4. Evaluate\n",
    "r2 = r2_score(y_test, y_pred)\n",
    "mae = mean_absolute_error(y_test, y_pred)\n",
    "mse = mean_squared_error(y_test, y_pred)\n",
    "rmse = mse ** 0.5\n",
    "\n",
    "print(\"XGBoost Performance:\")\n",
    "print(\"R2 Score:\", r2)\n",
    "print(\"MAE:\", mae)\n",
    "print(\"MSE:\", mse)\n",
    "print(\"RMSE:\", rmse)"
   ]
  },
  {
   "cell_type": "markdown",
   "id": "f62aff58-eb73-4cc7-b8d0-8f81e735e715",
   "metadata": {},
   "source": [
    "## Cross-Validation"
   ]
  },
  {
   "cell_type": "code",
   "execution_count": 178,
   "id": "174ffe49-c1f5-4275-84b5-fa707acaa575",
   "metadata": {},
   "outputs": [
    {
     "name": "stdout",
     "output_type": "stream",
     "text": [
      "Cross-validated R2 scores: [0.82774859 0.86229545 0.85869515 0.77594461 0.79001219]\n",
      "Mean R2 score: 0.822939197628043\n"
     ]
    }
   ],
   "source": [
    "from sklearn.model_selection import cross_val_score\n",
    "\n",
    "scores = cross_val_score(xgb, X, y, cv=5, scoring='r2')\n",
    "print(\"Cross-validated R2 scores:\", scores)\n",
    "print(\"Mean R2 score:\", scores.mean())"
   ]
  },
  {
   "cell_type": "markdown",
   "id": "26799d09-dbcd-4e9d-ad44-7f47fee2e332",
   "metadata": {},
   "source": [
    "## Model Comparison"
   ]
  },
  {
   "cell_type": "code",
   "execution_count": 272,
   "id": "275c59fc-9587-44b0-8aa4-85570ab9d4f5",
   "metadata": {},
   "outputs": [
    {
     "name": "stderr",
     "output_type": "stream",
     "text": [
      "C:\\Users\\yasod\\AppData\\Local\\Temp\\ipykernel_444\\273051634.py:12: FutureWarning: The behavior of DataFrame concatenation with empty or all-NA entries is deprecated. In a future version, this will no longer exclude empty or all-NA columns when determining the result dtypes. To retain the old behavior, exclude the relevant entries before the concat operation.\n",
      "  results_df = pd.concat([results_df, pd.DataFrame([{\n"
     ]
    },
    {
     "name": "stdout",
     "output_type": "stream",
     "text": [
      "               Model  R2_Score           MAE          RMSE\n",
      "0  Linear Regression  0.828385  10557.352360  14608.011068\n",
      "1      Decision Tree  0.723227  11811.917624  18551.324693\n",
      "2                KNN  0.683057  12452.018623  19851.960844\n",
      "3       RandomForest  0.862324   9276.425699  13084.068614\n",
      "4   GradientBoosting  0.868228   9455.659283  12800.451302\n",
      "5            XGBoost  0.854420   9039.918882  13454.402774\n"
     ]
    },
    {
     "data": {
      "text/html": [
       "<div>\n",
       "<style scoped>\n",
       "    .dataframe tbody tr th:only-of-type {\n",
       "        vertical-align: middle;\n",
       "    }\n",
       "\n",
       "    .dataframe tbody tr th {\n",
       "        vertical-align: top;\n",
       "    }\n",
       "\n",
       "    .dataframe thead th {\n",
       "        text-align: right;\n",
       "    }\n",
       "</style>\n",
       "<table border=\"1\" class=\"dataframe\">\n",
       "  <thead>\n",
       "    <tr style=\"text-align: right;\">\n",
       "      <th></th>\n",
       "      <th>Model</th>\n",
       "      <th>R2_Score</th>\n",
       "      <th>MAE</th>\n",
       "      <th>RMSE</th>\n",
       "    </tr>\n",
       "  </thead>\n",
       "  <tbody>\n",
       "    <tr>\n",
       "      <th>4</th>\n",
       "      <td>GradientBoosting</td>\n",
       "      <td>0.868228</td>\n",
       "      <td>9455.659283</td>\n",
       "      <td>12800.451302</td>\n",
       "    </tr>\n",
       "    <tr>\n",
       "      <th>3</th>\n",
       "      <td>RandomForest</td>\n",
       "      <td>0.862324</td>\n",
       "      <td>9276.425699</td>\n",
       "      <td>13084.068614</td>\n",
       "    </tr>\n",
       "    <tr>\n",
       "      <th>5</th>\n",
       "      <td>XGBoost</td>\n",
       "      <td>0.854420</td>\n",
       "      <td>9039.918882</td>\n",
       "      <td>13454.402774</td>\n",
       "    </tr>\n",
       "    <tr>\n",
       "      <th>0</th>\n",
       "      <td>Linear Regression</td>\n",
       "      <td>0.828385</td>\n",
       "      <td>10557.352360</td>\n",
       "      <td>14608.011068</td>\n",
       "    </tr>\n",
       "    <tr>\n",
       "      <th>1</th>\n",
       "      <td>Decision Tree</td>\n",
       "      <td>0.723227</td>\n",
       "      <td>11811.917624</td>\n",
       "      <td>18551.324693</td>\n",
       "    </tr>\n",
       "    <tr>\n",
       "      <th>2</th>\n",
       "      <td>KNN</td>\n",
       "      <td>0.683057</td>\n",
       "      <td>12452.018623</td>\n",
       "      <td>19851.960844</td>\n",
       "    </tr>\n",
       "  </tbody>\n",
       "</table>\n",
       "</div>"
      ],
      "text/plain": [
       "               Model  R2_Score           MAE          RMSE\n",
       "4   GradientBoosting  0.868228   9455.659283  12800.451302\n",
       "3       RandomForest  0.862324   9276.425699  13084.068614\n",
       "5            XGBoost  0.854420   9039.918882  13454.402774\n",
       "0  Linear Regression  0.828385  10557.352360  14608.011068\n",
       "1      Decision Tree  0.723227  11811.917624  18551.324693\n",
       "2                KNN  0.683057  12452.018623  19851.960844"
      ]
     },
     "execution_count": 272,
     "metadata": {},
     "output_type": "execute_result"
    }
   ],
   "source": [
    "from sklearn.metrics import r2_score, mean_absolute_error, mean_squared_error\n",
    "import numpy as np\n",
    "\n",
    "results_df = pd.DataFrame(columns=['Model', 'R2_Score', 'MAE', 'RMSE'])\n",
    "\n",
    "def evaluate_model(model_name, y_true, y_pred):\n",
    "    r2 = r2_score(y_true, y_pred)\n",
    "    mae = mean_absolute_error(y_true, y_pred)\n",
    "    rmse = np.sqrt(mean_squared_error(y_true, y_pred))\n",
    "    \n",
    "    global results_df  # So it can update the outer DataFrame\n",
    "    results_df = pd.concat([results_df, pd.DataFrame([{\n",
    "        'Model': model_name,\n",
    "        'R2_Score': r2,\n",
    "        'MAE': mae,\n",
    "        'RMSE': rmse\n",
    "    }])], ignore_index=True)\n",
    "\n",
    "\n",
    "\n",
    "from sklearn.linear_model import LinearRegression\n",
    "\n",
    "lr = LinearRegression()\n",
    "lr.fit(X_train, y_train)\n",
    "y_pred_lr = lr.predict(X_test)\n",
    "evaluate_model(\"Linear Regression\", y_test, y_pred_lr)\n",
    "\n",
    "# For Decision Tree\n",
    "from sklearn.tree import DecisionTreeRegressor\n",
    "\n",
    "dt = DecisionTreeRegressor()\n",
    "dt.fit(X_train, y_train)\n",
    "y_pred_dt = dt.predict(X_test)\n",
    "evaluate_model(\"Decision Tree\", y_test, y_pred_dt)\n",
    "\n",
    "from sklearn.neighbors import KNeighborsRegressor\n",
    "\n",
    "KNN=KNeighborsRegressor()\n",
    "KNN.fit(X_train,y_train)\n",
    "y_pred_knn=KNN.predict(X_test)\n",
    "evaluate_model(\"KNN\",y_test,y_pred_knn)\n",
    "\n",
    "from sklearn.ensemble import RandomForestRegressor\n",
    "\n",
    "rf = RandomForestRegressor(random_state=42)\n",
    "rf.fit(X_train, y_train)\n",
    "y_pred_rf=rf.predict(X_test)\n",
    "evaluate_model(\"RandomForest\",y_test,y_pred_rf)\n",
    "\n",
    "from sklearn.ensemble import GradientBoostingRegressor\n",
    "\n",
    "gb = GradientBoostingRegressor(random_state=42)\n",
    "gb.fit(X_train, y_train)\n",
    "y_pred_gb=gb.predict(X_test)\n",
    "evaluate_model(\"GradientBoosting\",y_test,y_pred_gb)\n",
    "\n",
    "from xgboost import XGBRegressor\n",
    "\n",
    "xgb = XGBRegressor(objective='reg:squarederror', random_state=42)\n",
    "xgb.fit(X_train, y_train)\n",
    "y_pred_xgb = xgb.predict(X_test)\n",
    "evaluate_model(\"XGBoost\",y_test,y_pred_xgb)\n",
    "\n",
    "print(results_df)\n",
    "results_df.sort_values(by='R2_Score', ascending=False)\n"
   ]
  },
  {
   "cell_type": "markdown",
   "id": "2d0e6ec9-08da-4f1d-a597-0f4fed9ad163",
   "metadata": {},
   "source": [
    "## Final Model Interpretation"
   ]
  },
  {
   "cell_type": "markdown",
   "id": "494d2050-392e-4882-8943-4c81823faa2f",
   "metadata": {},
   "source": [
    "Interpretation Summary:\n",
    "\n",
    "Model: GradientBoostingRegressor\n",
    "\n",
    "R² Score: 0.868 — the model explains 86.8% of the variance in laptop prices.\n",
    "\n",
    "MAE: ~9455 — on average, model is off by ₹9,455.\n",
    "\n",
    "RMSE: ~12,800 — the typical size of a prediction error, giving more weight to larger errors."
   ]
  },
  {
   "cell_type": "markdown",
   "id": "ad06bcc7-1aea-4ba2-9e7f-4dd92c6b14df",
   "metadata": {},
   "source": [
    "## Conclusion\n",
    "\n"
   ]
  },
  {
   "cell_type": "markdown",
   "id": "b608c7b7-6c0f-451c-a628-b8c36751d443",
   "metadata": {},
   "source": [
    "\n",
    "- Business takeaways\n",
    "- Future improvements (e.g., more data, advanced models)"
   ]
  },
  {
   "cell_type": "markdown",
   "id": "750a96f9-54b3-49a9-b7aa-aaaa901e023a",
   "metadata": {},
   "source": [
    "After evaluating multiple regression models — including Linear Regression, Decision Tree, K-Nearest Neighbors (KNN), Random Forest, Gradient Boosting, and XGBoost — the Gradient Boosting Regressor emerged as the best-performing model.\n",
    "\n",
    "GradientBoostingRegressor achieved the highest R² score of 0.868, indicating that it explains approximately 86.8% of the variance in laptop prices.\n",
    "\n",
    "It also maintained a low Mean Absolute Error (MAE) of around ₹9,455, and a Root Mean Squared Error (RMSE) of approximately ₹12,800, showing that its predictions are both accurate and consistent.\n",
    "\n",
    "Other models like Random Forest and XGBoost also performed well but slightly underperformed in comparison.\n",
    "\n",
    "✅ Final Model Selected: GradientBoostingRegressor\n",
    "This model provides a strong balance between accuracy and error minimization, making it the most suitable choice for predicting laptop prices based on the features used."
   ]
  },
  {
   "cell_type": "code",
   "execution_count": 280,
   "id": "9ee3cdea-965d-419a-8203-0a8a7f42b19e",
   "metadata": {},
   "outputs": [
    {
     "data": {
      "text/plain": [
       "['xgb_laptop_model.pkl']"
      ]
     },
     "execution_count": 280,
     "metadata": {},
     "output_type": "execute_result"
    }
   ],
   "source": [
    "import joblib\n",
    "joblib.dump(xgb, 'xgb_laptop_model.pkl')  \n"
   ]
  },
  {
   "cell_type": "code",
   "execution_count": 278,
   "id": "d27cf501-06eb-43a6-abb6-31fe20739f6f",
   "metadata": {},
   "outputs": [
    {
     "data": {
      "text/plain": [
       "['features.pkl']"
      ]
     },
     "execution_count": 278,
     "metadata": {},
     "output_type": "execute_result"
    }
   ],
   "source": [
    "import joblib\n",
    "joblib.dump(list(X_train.columns), 'features.pkl')\n"
   ]
  },
  {
   "cell_type": "code",
   "execution_count": null,
   "id": "d3ac4cfb-5e93-45c8-ba5f-9413d3c48bb9",
   "metadata": {},
   "outputs": [],
   "source": []
  }
 ],
 "metadata": {
  "kernelspec": {
   "display_name": "Python [conda env:base] *",
   "language": "python",
   "name": "conda-base-py"
  },
  "language_info": {
   "codemirror_mode": {
    "name": "ipython",
    "version": 3
   },
   "file_extension": ".py",
   "mimetype": "text/x-python",
   "name": "python",
   "nbconvert_exporter": "python",
   "pygments_lexer": "ipython3",
   "version": "3.12.7"
  }
 },
 "nbformat": 4,
 "nbformat_minor": 5
}
